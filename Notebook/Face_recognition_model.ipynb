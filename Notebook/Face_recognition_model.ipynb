{
 "cells": [
  {
   "cell_type": "code",
   "execution_count": null,
   "id": "71d1d21a",
   "metadata": {},
   "outputs": [],
   "source": [
    "import sys\n",
    "import os\n",
    "import cv2\n",
    "import threading\n",
    "\n",
    "# Add the directory containing 'simple_facerec.py' to the Python path\n",
    "sys.path.append(os.path.abspath('C:/Users/HP/simple_facerec.py'))\n",
    "\n",
    "# Import the SimpleFacerec class\n",
    "from simple_facerec import SimpleFacerec\n",
    "\n",
    "# Encode faces from a folder\n",
    "sfr = SimpleFacerec()\n",
    "sfr.load_encoding_images(\"images/\")\n",
    "\n",
    "# Load Camera\n",
    "cap = cv2.VideoCapture(0)\n",
    "\n",
    "def process_frame():\n",
    "    while True:\n",
    "        ret, frame = cap.read()\n",
    "        if not ret:\n",
    "            print(\"Failed to grab frame\")\n",
    "            break\n",
    "\n",
    "        # Detect Faces\n",
    "        face_locations, face_names = sfr.detect_known_faces(frame)\n",
    "        for face_loc, name in zip(face_locations, face_names):\n",
    "            y1, x2, y2, x1 = face_loc[0], face_loc[1], face_loc[2], face_loc[3]\n",
    "            # Add background color to text\n",
    "            cv2.rectangle(frame, (x1, y1 - 30), (x2, y1), (0, 0, 255), -1)\n",
    "            cv2.putText(frame, name, (x1, y1 - 10), cv2.FONT_HERSHEY_TRIPLEX, 0.8, (255, 255, 255), 2)\n",
    "            cv2.rectangle(frame, (x1, y1), (x2, y2), (0, 255, 0), 2)\n",
    "\n",
    "        cv2.imshow(\"Frame\", frame)\n",
    "\n",
    "        key = cv2.waitKey(1)\n",
    "        if key == 27:  # ESC key to break\n",
    "            break\n",
    "\n",
    "# Start the frame processing in a separate thread\n",
    "thread = threading.Thread(target=process_frame)\n",
    "thread.start()\n",
    "\n",
    "thread.join()\n",
    "cap.release()\n",
    "cv2.destroyAllWindows()\n"
   ]
  }
 ],
 "metadata": {
  "kernelspec": {
   "display_name": "Python 3 (ipykernel)",
   "language": "python",
   "name": "python3"
  },
  "language_info": {
   "codemirror_mode": {
    "name": "ipython",
    "version": 3
   },
   "file_extension": ".py",
   "mimetype": "text/x-python",
   "name": "python",
   "nbconvert_exporter": "python",
   "pygments_lexer": "ipython3",
   "version": "3.11.4"
  }
 },
 "nbformat": 4,
 "nbformat_minor": 5
}
